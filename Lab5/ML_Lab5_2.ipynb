{
  "cells": [
    {
      "cell_type": "markdown",
      "metadata": {
        "id": "vMEcr74UrT8t"
      },
      "source": [
        "#Task 1: Try the algo on Same Weather dataset - LabelEncoding of features: and Train test Division 80%-20% with Gini Index as attribute selection measure"
      ]
    },
    {
      "cell_type": "code",
      "execution_count": 1,
      "metadata": {
        "id": "mut40d9NrFVl"
      },
      "outputs": [],
      "source": [
        "from sklearn import preprocessing\n",
        "from sklearn.tree import DecisionTreeClassifier"
      ]
    },
    {
      "cell_type": "code",
      "execution_count": 2,
      "metadata": {
        "id": "POsrXxTJrfII"
      },
      "outputs": [],
      "source": [
        "Outlook = ['Rainy', 'Rainy', 'Overcast', 'Sunny', 'Sunny', 'Sunny',\n",
        "'Overcast',\n",
        "'Rainy', 'Rainy', 'Sunny', 'Rainy','Overcast', 'Overcast',\n",
        "'Sunny']\n",
        "Temperature = ['Hot', 'Hot', 'Hot', 'Mild', 'Cool', 'Cool', 'Cool',\n",
        "'Mild', 'Cool', 'Mild', 'Mild', 'Mild', 'Hot', 'Mild']\n",
        "Humidity = ['High', 'High', 'High', 'High', 'Normal', 'Normal', 'Normal',\n",
        "'High', 'Normal', 'Normal', 'Normal', 'High', 'Normal'\n",
        ",'High']\n",
        "Wind = ['False', 'True', 'False', 'False', 'False', 'True', 'True',\n",
        "'False', 'False', 'False', 'True', 'True', 'False', 'True']\n",
        "#Class Label:\n",
        "Play = ['No', 'No', 'Yes', 'Yes', 'Yes', 'No', 'Yes', 'No',\n",
        "'Yes', 'Yes', 'Yes', 'Yes', 'Yes', 'No']"
      ]
    },
    {
      "cell_type": "code",
      "execution_count": 3,
      "metadata": {
        "colab": {
          "base_uri": "https://localhost:8080/"
        },
        "id": "o9E8xOsqriwN",
        "outputId": "d2d88cb9-2496-4e32-decb-107520d597bf"
      },
      "outputs": [
        {
          "output_type": "stream",
          "name": "stdout",
          "text": [
            "Outllok mapping: {'Overcast': 0, 'Rainy': 1, 'Sunny': 2}\n",
            "Temperature mapping: {'Cool': 0, 'Hot': 1, 'Mild': 2}\n",
            "Humidity mapping: {'High': 0, 'Normal': 1}\n",
            "Wind mapping: {'False': 0, 'True': 1}\n",
            "Play mapping: {'No': 0, 'Yes': 1}\n",
            "\n",
            "\n",
            "\n",
            "Weather: [1 1 0 2 2 2 0 1 1 2 1 0 0 2]\n",
            "Temerature: [1 1 1 2 0 0 0 2 0 2 2 2 1 2]\n",
            "Humidity: [0 0 0 0 1 1 1 0 1 1 1 0 1 0]\n",
            "Wind: [0 1 0 0 0 1 1 0 0 0 1 1 0 1]\n",
            "Play: [0 0 1 1 1 0 1 0 1 1 1 1 1 0]\n"
          ]
        }
      ],
      "source": [
        "le = preprocessing.LabelEncoder()\n",
        "Outlook_encoded = le.fit_transform(Outlook)\n",
        "Outlook_name_mapping = dict(zip(le.classes_, le.transform(le.classes_)))\n",
        "print(\"Outllok mapping:\",Outlook_name_mapping)\n",
        "Temperature_encoded = le.fit_transform(Temperature)\n",
        "Temperature_name_mapping = dict(zip(le.classes_, le.transform(le.classes_)))\n",
        "print(\"Temperature mapping:\",Temperature_name_mapping)\n",
        "Humidity_encoded = le.fit_transform(Humidity)\n",
        "Humidity_name_mapping = dict(zip(le.classes_, le.transform(le.classes_)))\n",
        "print(\"Humidity mapping:\",Humidity_name_mapping)\n",
        "Wind_encoded = le.fit_transform(Wind)\n",
        "Wind_name_mapping = dict(zip(le.classes_, le.transform(le.classes_)))\n",
        "print(\"Wind mapping:\",Wind_name_mapping)\n",
        "Play_encoded = le.fit_transform(Play)\n",
        "Play_name_mapping = dict(zip(le.classes_, le.transform(le.classes_)))\n",
        "print(\"Play mapping:\",Play_name_mapping)\n",
        "print(\"\\n\\n\")\n",
        "print(\"Weather:\" ,Outlook_encoded)\n",
        "print(\"Temerature:\" ,Temperature_encoded)\n",
        "print(\"Humidity:\" ,Humidity_encoded)\n",
        "print(\"Wind:\" ,Wind_encoded)\n",
        "print(\"Play:\" ,Play_encoded)"
      ]
    },
    {
      "cell_type": "code",
      "execution_count": 4,
      "metadata": {
        "colab": {
          "base_uri": "https://localhost:8080/"
        },
        "id": "euDsqOUmrnoJ",
        "outputId": "b4be1b5f-4b8c-45ac-bac8-f3b3ab9bd4c8"
      },
      "outputs": [
        {
          "output_type": "stream",
          "name": "stdout",
          "text": [
            "Features: [(1, 1, 0, 0), (1, 1, 0, 1), (0, 1, 0, 0), (2, 2, 0, 0), (2, 0, 1, 0), (2, 0, 1, 1), (0, 0, 1, 1), (1, 2, 0, 0), (1, 0, 1, 0), (2, 2, 1, 0), (1, 2, 1, 1), (0, 2, 0, 1), (0, 1, 1, 0), (2, 2, 0, 1)]\n"
          ]
        }
      ],
      "source": [
        "features=list(zip(Outlook_encoded,Temperature_encoded,Humidity_encoded,Wind_encoded))\n",
        "print(\"Features:\",features)"
      ]
    },
    {
      "cell_type": "code",
      "execution_count": 5,
      "metadata": {
        "colab": {
          "base_uri": "https://localhost:8080/"
        },
        "id": "EcxJuZ3Zrq3y",
        "outputId": "44fe1773-fec1-4de5-9b5f-b3cc6784d80f"
      },
      "outputs": [
        {
          "output_type": "stream",
          "name": "stdout",
          "text": [
            "[(1, 2, 1, 1), (2, 0, 1, 0), (0, 2, 0, 1), (2, 0, 1, 1), (2, 2, 1, 0), (0, 1, 1, 0), (1, 1, 0, 1), (2, 2, 0, 1), (0, 1, 0, 0), (2, 2, 0, 0), (1, 1, 0, 0)]\n",
            "[(1, 2, 0, 0), (1, 0, 1, 0), (0, 0, 1, 1)]\n",
            "[1 1 1 0 1 1 0 0 1 1 0]\n",
            "[0 1 1]\n"
          ]
        }
      ],
      "source": [
        "from sklearn.model_selection import train_test_split\n",
        "X_train, X_test, y_train, y_test = train_test_split(features,Play_encoded , test_size=0.2, random_state=41)\n",
        "print(X_train)\n",
        "print(X_test)\n",
        "print(y_train)\n",
        "print(y_test)"
      ]
    },
    {
      "cell_type": "code",
      "execution_count": 6,
      "metadata": {
        "colab": {
          "base_uri": "https://localhost:8080/"
        },
        "id": "jCu4hETQsUNO",
        "outputId": "f358d564-fed6-458c-9af5-3c7bcc660de9"
      },
      "outputs": [
        {
          "output_type": "stream",
          "name": "stdout",
          "text": [
            "[0 0 1]\n"
          ]
        }
      ],
      "source": [
        "clf = DecisionTreeClassifier(criterion = \"gini\", random_state = 41, max_leaf_nodes=41)\n",
        "\n",
        "# Train Decision Tree Classifer\n",
        "clf = clf.fit(X_train,y_train)\n",
        "\n",
        "#Predict the response for test dataset\n",
        "y_pred = clf.predict(X_test)\n",
        "print(y_pred)"
      ]
    },
    {
      "cell_type": "code",
      "execution_count": 7,
      "metadata": {
        "colab": {
          "base_uri": "https://localhost:8080/"
        },
        "id": "BmEk8_UQsq73",
        "outputId": "d76cf5be-80d7-4cbd-d4c5-5b9b9d1a167e"
      },
      "outputs": [
        {
          "output_type": "stream",
          "name": "stdout",
          "text": [
            "Accuracy: 0.6666666666666666\n",
            "precision: 1.0\n",
            "recall: 0.5\n"
          ]
        }
      ],
      "source": [
        "from sklearn.metrics import precision_score\n",
        "from sklearn.metrics import recall_score\n",
        "from sklearn import metrics\n",
        "print(\"Accuracy:\",metrics.accuracy_score(y_test, y_pred))\n",
        "precision = precision_score(y_test, y_pred)\n",
        "recall = recall_score(y_test, y_pred)\n",
        "print('precision: {}'.format(precision))\n",
        "print('recall: {}'.format(recall))"
      ]
    },
    {
      "cell_type": "markdown",
      "metadata": {
        "id": "ZNyQGr_osxEB"
      },
      "source": [
        "Questions: For Task - 1 (1) What will be the value of Play, if Outlook is ’Rainy’, Temperature is ’Mild’, Humidity =’Nor\u0002mal’, and Wind = ’False’?"
      ]
    },
    {
      "cell_type": "code",
      "execution_count": 8,
      "metadata": {
        "colab": {
          "base_uri": "https://localhost:8080/"
        },
        "id": "lA_d9gK4szLN",
        "outputId": "a4d21ffd-7fe3-45b8-f897-fa19e9bab400"
      },
      "outputs": [
        {
          "output_type": "stream",
          "name": "stdout",
          "text": [
            "[0]\n"
          ]
        }
      ],
      "source": [
        "#Predict the response for test dataset\n",
        "pred1 = clf.predict([(1,2,1,0)])\n",
        "print(pred1)"
      ]
    },
    {
      "cell_type": "code",
      "execution_count": 9,
      "metadata": {
        "colab": {
          "base_uri": "https://localhost:8080/"
        },
        "id": "vCs-19wLs4Yx",
        "outputId": "3d357847-ce14-4849-f4b3-b879c6a7c281"
      },
      "outputs": [
        {
          "output_type": "stream",
          "name": "stdout",
          "text": [
            "[0]\n"
          ]
        }
      ],
      "source": [
        "pred2 = clf.predict([(2,0,0,1)])\n",
        "print(pred2)"
      ]
    },
    {
      "cell_type": "markdown",
      "metadata": {
        "id": "pZfDtQS6s_4l"
      },
      "source": [
        "#Task 2: Apply algorithm on digits dataset - One Hot Encoding of features: and Train test Division 65%-35%"
      ]
    },
    {
      "cell_type": "code",
      "execution_count": 10,
      "metadata": {
        "colab": {
          "base_uri": "https://localhost:8080/"
        },
        "id": "nUGwEfjhs-sK",
        "outputId": "cb28410e-15bc-4a68-8511-7b59014996df"
      },
      "outputs": [
        {
          "output_type": "stream",
          "name": "stdout",
          "text": [
            "Features: ['pixel_0_0', 'pixel_0_1', 'pixel_0_2', 'pixel_0_3', 'pixel_0_4', 'pixel_0_5', 'pixel_0_6', 'pixel_0_7', 'pixel_1_0', 'pixel_1_1', 'pixel_1_2', 'pixel_1_3', 'pixel_1_4', 'pixel_1_5', 'pixel_1_6', 'pixel_1_7', 'pixel_2_0', 'pixel_2_1', 'pixel_2_2', 'pixel_2_3', 'pixel_2_4', 'pixel_2_5', 'pixel_2_6', 'pixel_2_7', 'pixel_3_0', 'pixel_3_1', 'pixel_3_2', 'pixel_3_3', 'pixel_3_4', 'pixel_3_5', 'pixel_3_6', 'pixel_3_7', 'pixel_4_0', 'pixel_4_1', 'pixel_4_2', 'pixel_4_3', 'pixel_4_4', 'pixel_4_5', 'pixel_4_6', 'pixel_4_7', 'pixel_5_0', 'pixel_5_1', 'pixel_5_2', 'pixel_5_3', 'pixel_5_4', 'pixel_5_5', 'pixel_5_6', 'pixel_5_7', 'pixel_6_0', 'pixel_6_1', 'pixel_6_2', 'pixel_6_3', 'pixel_6_4', 'pixel_6_5', 'pixel_6_6', 'pixel_6_7', 'pixel_7_0', 'pixel_7_1', 'pixel_7_2', 'pixel_7_3', 'pixel_7_4', 'pixel_7_5', 'pixel_7_6', 'pixel_7_7']\n",
            "Labels: [0 1 2 3 4 5 6 7 8 9]\n"
          ]
        }
      ],
      "source": [
        "from sklearn.datasets import load_digits\n",
        "from sklearn.tree import DecisionTreeClassifier\n",
        "digits = load_digits()\n",
        "# print the names of the  features\n",
        "print(\"Features:\",digits.feature_names)\n",
        "# print the label type of Digits dataset\n",
        "print(\"Labels:\",digits.target_names)"
      ]
    },
    {
      "cell_type": "code",
      "execution_count": 11,
      "metadata": {
        "id": "aEjc_NfbuJB4"
      },
      "outputs": [],
      "source": [
        "#import the necessary module\n",
        "from sklearn.model_selection import train_test_split\n",
        "#split data set into train and test sets\n",
        "X_train, X_test, y_train, y_test = train_test_split(digits.data,digits.target , test_size=0.35, random_state=38)"
      ]
    },
    {
      "cell_type": "code",
      "execution_count": 12,
      "metadata": {
        "colab": {
          "base_uri": "https://localhost:8080/"
        },
        "id": "J4K_zWesuYjJ",
        "outputId": "b4569b8e-3656-4a41-defd-94e8782b7163"
      },
      "outputs": [
        {
          "output_type": "stream",
          "name": "stdout",
          "text": [
            "[9 2 2 8 1 8 4 9 9 1 0 0 6 6 8 7 9 9 3 2 6 9 8 2 8 4 9 4 0 6 7 1 5 6 1 5 8\n",
            " 5 4 6 1 9 9 6 1 5 9 5 0 2 4 1 7 4 8 7 2 2 1 5 4 1 2 0 2 7 7 3 7 9 0 8 5 0\n",
            " 4 1 9 9 5 9 8 8 4 8 2 1 5 1 7 6 6 3 1 8 9 0 0 9 3 0 3 0 4 4 4 4 2 0 5 6 5\n",
            " 6 6 0 1 9 0 9 4 7 2 1 4 4 8 4 6 8 0 7 1 3 3 9 6 8 3 8 9 0 4 1 8 6 3 9 3 8\n",
            " 2 0 0 4 8 1 6 9 4 3 5 6 0 8 6 4 6 7 7 4 9 8 0 1 2 0 4 0 0 0 3 0 7 7 0 1 5\n",
            " 2 8 6 6 5 4 0 0 4 8 2 5 3 9 5 1 1 9 2 1 6 3 9 8 1 8 6 0 1 5 9 7 6 7 7 8 1\n",
            " 1 2 5 7 2 1 4 7 4 1 3 1 1 7 3 7 1 5 4 8 0 7 5 3 5 5 1 1 2 4 9 3 3 6 6 5 3\n",
            " 8 4 8 8 2 4 5 0 7 8 1 0 1 4 7 7 4 6 9 1 4 1 1 7 3 0 3 1 2 4 6 4 8 5 0 9 2\n",
            " 8 8 1 7 1 6 6 3 0 6 1 4 5 5 1 6 4 6 2 9 6 4 4 6 3 7 0 2 4 2 9 7 8 8 3 1 2\n",
            " 6 3 0 9 0 2 7 7 4 0 8 7 3 7 7 4 9 5 3 1 4 1 6 6 3 0 6 9 5 4 5 8 3 9 8 5 3\n",
            " 0 9 8 5 9 7 8 9 4 4 3 9 2 8 7 1 1 7 5 5 9 8 0 4 9 9 3 2 5 8 8 2 0 2 1 2 1\n",
            " 2 4 2 1 8 7 2 4 8 5 1 0 3 4 9 0 8 3 4 2 9 1 5 4 1 2 0 1 6 1 2 9 4 9 5 7 8\n",
            " 1 4 5 8 5 3 8 1 3 4 9 8 3 6 6 8 0 1 1 9 4 5 6 8 6 8 7 9 3 5 2 1 5 7 6 9 6\n",
            " 0 3 7 9 0 9 9 0 3 0 5 3 2 0 5 5 8 1 6 2 1 8 3 3 9 3 9 9 8 4 9 5 8 9 2 7 3\n",
            " 4 8 7 3 4 9 9 7 9 0 9 2 8 5 1 1 4 9 2 2 3 4 6 8 5 6 2 6 9 0 9 9 0 3 8 7 6\n",
            " 7 5 6 4 9 0 9 1 2 5 7 1 2 6 2 6 8 6 4 5 7 3 1 5 1 6 5 3 2 2 4 6 1 1 1 8 4\n",
            " 6 6 4 9 4 0 1 4 7 8 9 5 9 7 9 1 2 5 8 0 3 5 8 2 2 5 5 8 1 9 7 5 9 6 1 8 8]\n"
          ]
        }
      ],
      "source": [
        "clf = DecisionTreeClassifier(criterion = \"entropy\", random_state = 38, max_leaf_nodes=38)\n",
        "\n",
        "# Train Decision Tree Classifer\n",
        "clf = clf.fit(X_train,y_train)\n",
        "\n",
        "#Predict the response for test dataset\n",
        "y_pred = clf.predict(X_test)\n",
        "print(y_pred)"
      ]
    },
    {
      "cell_type": "code",
      "execution_count": 13,
      "metadata": {
        "colab": {
          "base_uri": "https://localhost:8080/"
        },
        "id": "CHS0x7Z1uhlS",
        "outputId": "6552eb80-aae2-4e2d-f29b-9e2c21dde0f4"
      },
      "outputs": [
        {
          "output_type": "stream",
          "name": "stdout",
          "text": [
            "Accuracy: 0.8378378378378378\n",
            "precision: [0.93103448 0.66233766 0.83636364 0.88461538 0.89855072 0.88333333\n",
            " 0.98333333 0.88461538 0.74647887 0.76      ]\n",
            "recall: [0.93103448 0.77272727 0.79310345 0.70769231 0.84931507 0.84126984\n",
            " 0.86764706 0.90196078 0.84126984 0.890625  ]\n"
          ]
        }
      ],
      "source": [
        "from sklearn.metrics import precision_score\n",
        "from sklearn.metrics import recall_score\n",
        "from sklearn import metrics\n",
        "print(\"Accuracy:\",metrics.accuracy_score(y_test, y_pred))\n",
        "precision = precision_score(y_test, y_pred,average=None)\n",
        "recall = recall_score(y_test, y_pred,average=None)\n",
        "print('precision: {}'.format(precision))\n",
        "print('recall: {}'.format(recall))"
      ]
    }
  ],
  "metadata": {
    "colab": {
      "name": "CE038_KhushiDoshi_Lab5_part2.ipynb",
      "provenance": []
    },
    "kernelspec": {
      "display_name": "Python 3",
      "name": "python3"
    },
    "language_info": {
      "codemirror_mode": {
        "name": "ipython",
        "version": 3
      },
      "file_extension": ".py",
      "mimetype": "text/x-python",
      "name": "python",
      "nbconvert_exporter": "python",
      "pygments_lexer": "ipython3",
      "version": "3.9.2"
    }
  },
  "nbformat": 4,
  "nbformat_minor": 0
}
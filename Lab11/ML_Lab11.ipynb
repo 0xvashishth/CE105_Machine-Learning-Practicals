{
  "nbformat": 4,
  "nbformat_minor": 0,
  "metadata": {
    "colab": {
      "provenance": [],
      "include_colab_link": true
    },
    "kernelspec": {
      "name": "python3",
      "display_name": "Python 3"
    },
    "language_info": {
      "name": "python"
    }
  },
  "cells": [
    {
      "cell_type": "markdown",
      "metadata": {
        "id": "view-in-github",
        "colab_type": "text"
      },
      "source": [
        "<a href=\"https://colab.research.google.com/github/Dharmesh-Poriya07/CE110_Machine-Learning-Practicals/blob/main/Practical-12/Practical_12.ipynb\" target=\"_parent\"><img src=\"https://colab.research.google.com/assets/colab-badge.svg\" alt=\"Open In Colab\"/></a>"
      ]
    },
    {
      "cell_type": "markdown",
      "source": [
        "# **Practical - 12** : Artificial Neural Network\n",
        "\n",
        "> ### **Objective** : To build an ANN model for performing classification on a given dataset."
      ],
      "metadata": {
        "id": "oPLJ36_B9ZSd"
      }
    },
    {
      "cell_type": "code",
      "execution_count": 14,
      "metadata": {
        "id": "VopTBu-zBcH8"
      },
      "outputs": [],
      "source": [
        "import torch\n",
        "from torchvision.datasets import MNIST\n",
        "from torch.utils.data import DataLoader, TensorDataset\n",
        "import matplotlib.pyplot as plt"
      ]
    },
    {
      "cell_type": "code",
      "source": [
        "# Load MNIST dataset from torchvision.datasets\n",
        "mnist = MNIST(root='data/', train=True, download=True)\n"
      ],
      "metadata": {
        "id": "zduPIhbgDPza"
      },
      "execution_count": 15,
      "outputs": []
    },
    {
      "cell_type": "code",
      "source": [
        "# Convert features to float32 and targets to long\n",
        "features_train = mnist.data.float()\n",
        "targets_train = mnist.targets.long()"
      ],
      "metadata": {
        "id": "7Mnia3OKEla7"
      },
      "execution_count": 16,
      "outputs": []
    },
    {
      "cell_type": "code",
      "source": [
        "# Normalize features from [0, 255] to [0, 1]\n",
        "features_train /= 255\n",
        "\n",
        "# Flatten features to 1-D vector of 784 features\n",
        "features_train = features_train.view(-1, 784)\n",
        "\n"
      ],
      "metadata": {
        "id": "IUaEMWS9EotB"
      },
      "execution_count": 17,
      "outputs": []
    },
    {
      "cell_type": "code",
      "source": [
        "# Define number of iterations, batch size, and epochs\n",
        "n_iters = 5000\n",
        "batch_size = 100\n",
        "num_epochs = n_iters // (len(features_train) // batch_size)\n"
      ],
      "metadata": {
        "id": "kWUpfj_SGbKz"
      },
      "execution_count": 18,
      "outputs": []
    },
    {
      "cell_type": "code",
      "source": [
        "# Create PyTorch tensor and variable for features and targets for training set\n",
        "train_set = TensorDataset(features_train, targets_train)\n",
        "train_loader = DataLoader(train_set, batch_size=batch_size, shuffle=True)\n",
        "features_train = torch.tensor(features_train, requires_grad=True)\n",
        "targets_train = torch.tensor(targets_train)\n"
      ],
      "metadata": {
        "colab": {
          "base_uri": "https://localhost:8080/"
        },
        "id": "Fk-UPPoYGbgq",
        "outputId": "808a3f5c-610f-4d3e-bdf1-50ada62d0db6"
      },
      "execution_count": 19,
      "outputs": [
        {
          "output_type": "stream",
          "name": "stderr",
          "text": [
            "<ipython-input-19-7ffd78aa0c34>:4: UserWarning: To copy construct from a tensor, it is recommended to use sourceTensor.clone().detach() or sourceTensor.clone().detach().requires_grad_(True), rather than torch.tensor(sourceTensor).\n",
            "  features_train = torch.tensor(features_train, requires_grad=True)\n",
            "<ipython-input-19-7ffd78aa0c34>:5: UserWarning: To copy construct from a tensor, it is recommended to use sourceTensor.clone().detach() or sourceTensor.clone().detach().requires_grad_(True), rather than torch.tensor(sourceTensor).\n",
            "  targets_train = torch.tensor(targets_train)\n"
          ]
        }
      ]
    },
    {
      "cell_type": "code",
      "source": [
        "# Load test set and convert features to float32, normalize, and flatten\n",
        "mnist_test = MNIST(root='data/', train=False, download=True)\n",
        "features_test = mnist_test.data.float()\n",
        "targets_test = mnist_test.targets.long()\n",
        "features_test /= 255\n",
        "features_test = features_test.view(-1, 784)"
      ],
      "metadata": {
        "id": "wbJ1p4wtGbmA"
      },
      "execution_count": 20,
      "outputs": []
    },
    {
      "cell_type": "code",
      "source": [
        "# Create PyTorch tensor for features and targets for test set\n",
        "test_set = TensorDataset(features_test, targets_test)\n",
        "test_loader = DataLoader(test_set, batch_size=batch_size, shuffle=False)\n",
        "\n",
        "# Visualize one of the images in the training set\n",
        "plt.imshow(mnist.data[2], cmap='Greens')\n",
        "plt.show()\n",
        "\n"
      ],
      "metadata": {
        "colab": {
          "base_uri": "https://localhost:8080/",
          "height": 265
        },
        "id": "QhYnbhKIFxQB",
        "outputId": "72cf1ff3-effc-443e-d127-8d2a6a17d78c"
      },
      "execution_count": 21,
      "outputs": [
        {
          "output_type": "display_data",
          "data": {
            "text/plain": [
              "<Figure size 432x288 with 1 Axes>"
            ],
            "image/png": "[encoded data removed]"
          },
          "metadata": {
            "needs_background": "light"
          }
        }
      ]
    },
    {
      "cell_type": "code",
      "source": [
        "import torch\n",
        "import torch.nn as nn\n",
        "\n",
        "class ANNModel(nn.Module):\n",
        "    def __init__(self, input_dim, hidden_dim, output_dim):\n",
        "        super(ANNModel, self).__init__()\n",
        "        self.fc1 = nn.Linear(input_dim, hidden_dim)\n",
        "        self.relu = nn.ReLU()\n",
        "        self.fc2 = nn.Linear(hidden_dim, output_dim)\n",
        "    \n",
        "    def forward(self, x):\n",
        "        out = self.fc1(x)\n",
        "        out = self.relu(out)\n",
        "        out = self.fc2(out)\n",
        "        return out\n",
        "\n",
        "# instantiate ANN\n",
        "input_dim = 28*28\n",
        "hidden_dim = 300\n",
        "output_dim = 10\n",
        "\n",
        "# Create ANN\n",
        "model = ANNModel(input_dim, hidden_dim, output_dim)\n",
        "\n",
        "# Cross Entropy Loss\n",
        "criterion = nn.CrossEntropyLoss()\n",
        "\n",
        "# SGD Optimizer\n",
        "learning_rate = 0.02\n",
        "optimizer = torch.optim.SGD(model.parameters(), lr=learning_rate)\n"
      ],
      "metadata": {
        "id": "PAYVDm7TI0Ch"
      },
      "execution_count": 22,
      "outputs": []
    },
    {
      "cell_type": "code",
      "source": [
        "# Set number of epochs\n",
        "num_epochs = 5\n",
        "count=0\n",
        "\n",
        "# Define empty lists to store loss, iteration and accuracy values\n",
        "loss_list = []\n",
        "iteration_list = []\n",
        "accuracy_list = []\n",
        "\n",
        "for epoch in range(num_epochs):\n",
        "    for i, (images, labels) in enumerate(train_loader):\n",
        "\n",
        "        # Convert input and labels to Variables\n",
        "        train = (images.view(-1, 28*28))\n",
        "        labels = (labels)\n",
        "\n",
        "        # Clear gradients\n",
        "        optimizer.zero_grad()\n",
        "\n",
        "        # Forward propagation\n",
        "        outputs = model(train)\n",
        "\n",
        "        # Calculate softmax and cross entropy loss\n",
        "        loss = criterion(outputs, labels)\n",
        "\n",
        "        # Calculating gradients\n",
        "        loss.backward()\n",
        "\n",
        "        # Update parameters\n",
        "        optimizer.step()\n",
        "\n",
        "        # Count iterations\n",
        "        count += 1\n",
        "\n",
        "        # Calculate accuracy every 50 iterations\n",
        "        if count % 50 == 0:\n",
        "            correct = 0\n",
        "            total = 0\n",
        "            for images, labels in test_loader:\n",
        "                test = (images.view(-1, 28*28))\n",
        "                outputs = model(test)\n",
        "                predicted = torch.max(outputs.data, 1)[1]\n",
        "                total += labels.size(0)\n",
        "                correct += (predicted == labels).sum()\n",
        "\n",
        "            accuracy = 100 * correct / float(total)\n",
        "\n",
        "            # Store loss and iteration values\n",
        "            loss_list.append(loss.data)\n",
        "            iteration_list.append(count)\n",
        "            accuracy_list.append(accuracy)\n",
        "\n",
        "        # Print loss and accuracy every 500 iterations\n",
        "        if count % 500 == 0:\n",
        "            print('Iteration: {} Loss: {:.4f} Accuracy: {:.2f} %'.\n",
        "                  format(count, loss.data, accuracy))\n"
      ],
      "metadata": {
        "colab": {
          "base_uri": "https://localhost:8080/"
        },
        "id": "M4syz4fBIbQh",
        "outputId": "887bab1f-f168-49d9-d442-2bf5dcf1b926"
      },
      "execution_count": 23,
      "outputs": [
        {
          "output_type": "stream",
          "name": "stdout",
          "text": [
            "Iteration: 500 Loss: 0.6492 Accuracy: 86.97 %\n",
            "Iteration: 1000 Loss: 0.4654 Accuracy: 89.45 %\n",
            "Iteration: 1500 Loss: 0.3665 Accuracy: 90.55 %\n",
            "Iteration: 2000 Loss: 0.2990 Accuracy: 91.20 %\n",
            "Iteration: 2500 Loss: 0.1862 Accuracy: 91.58 %\n",
            "Iteration: 3000 Loss: 0.4140 Accuracy: 91.98 %\n"
          ]
        }
      ]
    },
    {
      "cell_type": "code",
      "source": [
        "# visualization loss\n",
        "plt.plot(iteration_list,loss_list)\n",
        "plt.xlabel(\"Number of iteration\")\n",
        "plt.ylabel(\"Loss\")\n",
        "plt.title(\"ANN: Loss vs Number of iteration\")\n",
        "plt.show()\n",
        "\n",
        "# visualization accuracy\n",
        "plt.plot(iteration_list,accuracy_list,color = \"blue\")\n",
        "plt.xlabel(\"Number of iteration\")\n",
        "plt.ylabel(\"Accuracy\")\n",
        "plt.title(\"ANN: Accuracy vs Number of iteration\")\n",
        "plt.show()"
      ],
      "metadata": {
        "colab": {
          "base_uri": "https://localhost:8080/",
          "height": 573
        },
        "id": "h8lU5YhCKcEh",
        "outputId": "74309182-189f-4241-aee7-51a80461e575"
      },
      "execution_count": 24,
      "outputs": [
        {
          "output_type": "display_data",
          "data": {
            "text/plain": [
              "<Figure size 432x288 with 1 Axes>"
            ],
            "image/png": "[encoded data removed]"
          },
          "metadata": {
            "needs_background": "light"
          }
        },
        {
          "output_type": "display_data",
          "data": {
            "text/plain": [
              "<Figure size 432x288 with 1 Axes>"
            ],
            "image/png": "[encoded data removed]"
          },
          "metadata": {
            "needs_background": "light"
          }
        }
      ]
    }
  ]
}
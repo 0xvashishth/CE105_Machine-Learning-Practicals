{
  "nbformat": 4,
  "nbformat_minor": 0,
  "metadata": {
    "colab": {
      "provenance": [],
      "include_colab_link": true
    },
    "kernelspec": {
      "name": "python3",
      "display_name": "Python 3"
    },
    "language_info": {
      "name": "python"
    }
  },
  "cells": [
    {
      "cell_type": "markdown",
      "metadata": {
        "id": "view-in-github",
        "colab_type": "text"
      },
      "source": [
        "<a href=\"https://colab.research.google.com/github/Dharmesh-Poriya07/CE110_Machine-Learning-Practicals/blob/main/Practical-11/Practical_11.ipynb\" target=\"_parent\"><img src=\"https://colab.research.google.com/assets/colab-badge.svg\" alt=\"Open In Colab\"/></a>"
      ]
    },
    {
      "cell_type": "markdown",
      "source": [
        "# **Practical - 11** : Support Vector Machine\n",
        "\n",
        "> ### **Objective** : To implement SVM using scikit-learn library and train it to classify the given dataset."
      ],
      "metadata": {
        "id": "cSfPNJ7626zw"
      }
    },
    {
      "cell_type": "code",
      "execution_count": 11,
      "metadata": {
        "id": "T1-5_H4sIye9",
        "colab": {
          "base_uri": "https://localhost:8080/"
        },
        "outputId": "41010f27-8b1e-4673-888a-35df6741aaad"
      },
      "outputs": [
        {
          "output_type": "stream",
          "name": "stdout",
          "text": [
            "Accuracy 0.9736842105263158\n",
            "Precision 0.9861111111111112\n",
            "Recall 0.9726027397260274\n",
            "              precision    recall  f1-score   support\n",
            "\n",
            "           0       0.95      0.98      0.96        41\n",
            "           1       0.99      0.97      0.98        73\n",
            "\n",
            "    accuracy                           0.97       114\n",
            "   macro avg       0.97      0.97      0.97       114\n",
            "weighted avg       0.97      0.97      0.97       114\n",
            "\n"
          ]
        }
      ],
      "source": [
        "import sys, os\n",
        "import matplotlib.pyplot as plt\n",
        "from sklearn import svm\n",
        "from sklearn.model_selection import train_test_split\n",
        "import numpy as np\n",
        "import pandas as pd\n",
        "from sklearn.datasets import make_blobs, load_breast_cancer, load_digits\n",
        "from sklearn.metrics import accuracy_score, precision_score, recall_score, classification_report\n",
        "from mlxtend.plotting import plot_decision_regions\n",
        "\n",
        "data = load_breast_cancer()\n",
        "features = data.data\n",
        "labels = data.target\n",
        "\n",
        "model = svm.SVC(kernel='linear')\n",
        "\n",
        "trainX, testX, trainL, testL = train_test_split(features, labels, random_state=110, test_size=0.2)\n",
        "model.fit(trainX, trainL)\n",
        "\n",
        "predicted = model.predict(testX)\n",
        "\n",
        "print('Accuracy {}'.format(accuracy_score(testL, predicted)))\n",
        "print('Precision {}'.format(precision_score(testL, predicted)))\n",
        "print('Recall {}'.format(recall_score(testL, predicted)))\n",
        "\n",
        "print(classification_report(testL, predicted))"
      ]
    },
    {
      "cell_type": "code",
      "source": [
        "model = svm.SVC(kernel='poly')\n",
        "\n",
        "trainX, testX, trainL, testL = train_test_split(features, labels, random_state=110, test_size=0.2)\n",
        "model.fit(trainX, trainL)\n",
        "\n",
        "predicted = model.predict(testX)\n",
        "\n",
        "print('Accuracy {}'.format(accuracy_score(testL, predicted)))\n",
        "print('Precision {}'.format(precision_score(testL, predicted)))\n",
        "print('Recall {}'.format(recall_score(testL, predicted)))\n",
        "\n",
        "print(classification_report(testL, predicted))"
      ],
      "metadata": {
        "colab": {
          "base_uri": "https://localhost:8080/"
        },
        "id": "jGdL_br8OZT3",
        "outputId": "64629af7-aac3-49ab-e70e-90483bf2772f"
      },
      "execution_count": 12,
      "outputs": [
        {
          "output_type": "stream",
          "name": "stdout",
          "text": [
            "Accuracy 0.8947368421052632\n",
            "Precision 0.8961038961038961\n",
            "Recall 0.9452054794520548\n",
            "              precision    recall  f1-score   support\n",
            "\n",
            "           0       0.89      0.80      0.85        41\n",
            "           1       0.90      0.95      0.92        73\n",
            "\n",
            "    accuracy                           0.89       114\n",
            "   macro avg       0.89      0.88      0.88       114\n",
            "weighted avg       0.89      0.89      0.89       114\n",
            "\n"
          ]
        }
      ]
    },
    {
      "cell_type": "code",
      "source": [
        "model = svm.SVC(kernel='rbf')\n",
        "\n",
        "trainX, testX, trainL, testL = train_test_split(features, labels, random_state=110, test_size=0.2)\n",
        "model.fit(trainX, trainL)\n",
        "\n",
        "predicted = model.predict(testX)\n",
        "\n",
        "print('Accuracy {}'.format(accuracy_score(testL, predicted)))\n",
        "print('Precision {}'.format(precision_score(testL, predicted)))\n",
        "print('Recall {}'.format(recall_score(testL, predicted)))\n",
        "\n",
        "print(classification_report(testL, predicted))"
      ],
      "metadata": {
        "colab": {
          "base_uri": "https://localhost:8080/"
        },
        "id": "dQqX8435R2I-",
        "outputId": "5d4808d6-c859-4f6f-9bcb-88bec4d3a67b"
      },
      "execution_count": 13,
      "outputs": [
        {
          "output_type": "stream",
          "name": "stdout",
          "text": [
            "Accuracy 0.8947368421052632\n",
            "Precision 0.8961038961038961\n",
            "Recall 0.9452054794520548\n",
            "              precision    recall  f1-score   support\n",
            "\n",
            "           0       0.89      0.80      0.85        41\n",
            "           1       0.90      0.95      0.92        73\n",
            "\n",
            "    accuracy                           0.89       114\n",
            "   macro avg       0.89      0.88      0.88       114\n",
            "weighted avg       0.89      0.89      0.89       114\n",
            "\n"
          ]
        }
      ]
    },
    {
      "cell_type": "code",
      "source": [
        "data = load_digits()\n",
        "features = data.data\n",
        "labels = data.target\n",
        "\n",
        "model = svm.SVC(kernel='linear')\n",
        "\n",
        "trainX, testX, trainL, testL = train_test_split(features, labels, random_state=110, test_size=0.2)\n",
        "model.fit(trainX, trainL)\n",
        "\n",
        "predicted = model.predict(testX)\n",
        "\n",
        "print('Accuracy {}'.format(accuracy_score(testL, predicted)))\n",
        "print('Precision {}'.format(precision_score(testL, predicted, average='weighted')))\n",
        "print('Recall {}'.format(recall_score(testL, predicted, average='weighted')))\n",
        "\n",
        "print(classification_report(testL, predicted))"
      ],
      "metadata": {
        "colab": {
          "base_uri": "https://localhost:8080/"
        },
        "id": "TaErnFhaR64e",
        "outputId": "2409e36c-7ee0-4b57-81f0-8395afeed164"
      },
      "execution_count": 14,
      "outputs": [
        {
          "output_type": "stream",
          "name": "stdout",
          "text": [
            "Accuracy 0.9888888888888889\n",
            "Precision 0.9892000129500129\n",
            "Recall 0.9888888888888889\n",
            "              precision    recall  f1-score   support\n",
            "\n",
            "           0       1.00      1.00      1.00        34\n",
            "           1       1.00      0.98      0.99        47\n",
            "           2       1.00      1.00      1.00        37\n",
            "           3       1.00      0.97      0.98        31\n",
            "           4       0.98      1.00      0.99        43\n",
            "           5       1.00      0.97      0.98        30\n",
            "           6       1.00      0.97      0.99        39\n",
            "           7       0.97      1.00      0.98        29\n",
            "           8       0.97      1.00      0.98        32\n",
            "           9       0.97      1.00      0.99        38\n",
            "\n",
            "    accuracy                           0.99       360\n",
            "   macro avg       0.99      0.99      0.99       360\n",
            "weighted avg       0.99      0.99      0.99       360\n",
            "\n"
          ]
        }
      ]
    },
    {
      "cell_type": "code",
      "source": [
        "model = svm.SVC(kernel='poly')\n",
        "\n",
        "trainX, testX, trainL, testL = train_test_split(features, labels, random_state=110, test_size=0.2)\n",
        "model.fit(trainX, trainL)\n",
        "\n",
        "predicted = model.predict(testX)\n",
        "\n",
        "print('Accuracy {}'.format(accuracy_score(testL, predicted)))\n",
        "print('Precision {}'.format(precision_score(testL, predicted, average='weighted')))\n",
        "print('Recall {}'.format(recall_score(testL, predicted, average='weighted')))\n",
        "\n",
        "print(classification_report(testL, predicted))"
      ],
      "metadata": {
        "colab": {
          "base_uri": "https://localhost:8080/"
        },
        "id": "gDATjcyVSGV2",
        "outputId": "6dda96f0-3254-42f4-952e-9fa937265d88"
      },
      "execution_count": 15,
      "outputs": [
        {
          "output_type": "stream",
          "name": "stdout",
          "text": [
            "Accuracy 0.9944444444444445\n",
            "Precision 0.9946082621082619\n",
            "Recall 0.9944444444444445\n",
            "              precision    recall  f1-score   support\n",
            "\n",
            "           0       1.00      1.00      1.00        34\n",
            "           1       1.00      1.00      1.00        47\n",
            "           2       1.00      1.00      1.00        37\n",
            "           3       1.00      0.97      0.98        31\n",
            "           4       1.00      1.00      1.00        43\n",
            "           5       1.00      0.97      0.98        30\n",
            "           6       1.00      1.00      1.00        39\n",
            "           7       0.97      1.00      0.98        29\n",
            "           8       1.00      1.00      1.00        32\n",
            "           9       0.97      1.00      0.99        38\n",
            "\n",
            "    accuracy                           0.99       360\n",
            "   macro avg       0.99      0.99      0.99       360\n",
            "weighted avg       0.99      0.99      0.99       360\n",
            "\n"
          ]
        }
      ]
    },
    {
      "cell_type": "code",
      "source": [
        "# decreasing value of C tends to reduce accuracy of the model\n",
        "model = svm.SVC(kernel='poly', C=1000)\n",
        "\n",
        "trainX, testX, trainL, testL = train_test_split(features, labels, random_state=110, test_size=0.2)\n",
        "model.fit(trainX, trainL)\n",
        "\n",
        "predicted = model.predict(testX)\n",
        "\n",
        "print('Accuracy {}'.format(accuracy_score(testL, predicted)))\n",
        "print('Precision {}'.format(precision_score(testL, predicted, average='weighted')))\n",
        "print('Recall {}'.format(recall_score(testL, predicted, average='weighted')))\n",
        "\n",
        "print(classification_report(testL, predicted))"
      ],
      "metadata": {
        "colab": {
          "base_uri": "https://localhost:8080/"
        },
        "id": "AnUg0B_OTHam",
        "outputId": "cb042af5-ff60-419d-8da9-f4c0031513e5"
      },
      "execution_count": 16,
      "outputs": [
        {
          "output_type": "stream",
          "name": "stdout",
          "text": [
            "Accuracy 0.9944444444444445\n",
            "Precision 0.9946082621082619\n",
            "Recall 0.9944444444444445\n",
            "              precision    recall  f1-score   support\n",
            "\n",
            "           0       1.00      1.00      1.00        34\n",
            "           1       1.00      1.00      1.00        47\n",
            "           2       1.00      1.00      1.00        37\n",
            "           3       1.00      0.97      0.98        31\n",
            "           4       1.00      1.00      1.00        43\n",
            "           5       1.00      0.97      0.98        30\n",
            "           6       1.00      1.00      1.00        39\n",
            "           7       0.97      1.00      0.98        29\n",
            "           8       1.00      1.00      1.00        32\n",
            "           9       0.97      1.00      0.99        38\n",
            "\n",
            "    accuracy                           0.99       360\n",
            "   macro avg       0.99      0.99      0.99       360\n",
            "weighted avg       0.99      0.99      0.99       360\n",
            "\n"
          ]
        }
      ]
    },
    {
      "cell_type": "code",
      "source": [
        "model = svm.SVC(kernel='rbf')\n",
        "\n",
        "trainX, testX, trainL, testL = train_test_split(features, labels, random_state=110, test_size=0.2)\n",
        "model.fit(trainX, trainL)\n",
        "\n",
        "predicted = model.predict(testX)\n",
        "\n",
        "print('Accuracy {}'.format(accuracy_score(testL, predicted)))\n",
        "print('Precision {}'.format(precision_score(testL, predicted, average='weighted')))\n",
        "print('Recall {}'.format(recall_score(testL, predicted, average='weighted')))\n",
        "\n",
        "print(classification_report(testL, predicted))"
      ],
      "metadata": {
        "colab": {
          "base_uri": "https://localhost:8080/"
        },
        "id": "A1-Jr80jSIiO",
        "outputId": "4ea726ce-fc91-41bf-84c8-76b999ad8849"
      },
      "execution_count": 17,
      "outputs": [
        {
          "output_type": "stream",
          "name": "stdout",
          "text": [
            "Accuracy 0.9944444444444445\n",
            "Precision 0.9946082621082619\n",
            "Recall 0.9944444444444445\n",
            "              precision    recall  f1-score   support\n",
            "\n",
            "           0       1.00      1.00      1.00        34\n",
            "           1       1.00      1.00      1.00        47\n",
            "           2       1.00      1.00      1.00        37\n",
            "           3       1.00      0.97      0.98        31\n",
            "           4       1.00      1.00      1.00        43\n",
            "           5       1.00      0.97      0.98        30\n",
            "           6       1.00      1.00      1.00        39\n",
            "           7       0.97      1.00      0.98        29\n",
            "           8       1.00      1.00      1.00        32\n",
            "           9       0.97      1.00      0.99        38\n",
            "\n",
            "    accuracy                           0.99       360\n",
            "   macro avg       0.99      0.99      0.99       360\n",
            "weighted avg       0.99      0.99      0.99       360\n",
            "\n"
          ]
        }
      ]
    },
    {
      "cell_type": "code",
      "source": [
        "# decreasing value of C tends to reduce accuracy of the model\n",
        "model = svm.SVC(kernel='rbf', C=100000)\n",
        "\n",
        "trainX, testX, trainL, testL = train_test_split(features, labels, random_state=110, test_size=0.2)\n",
        "model.fit(trainX, trainL)\n",
        "\n",
        "predicted = model.predict(testX)\n",
        "\n",
        "print('Accuracy {}'.format(accuracy_score(testL, predicted)))\n",
        "print('Precision {}'.format(precision_score(testL, predicted, average='weighted')))\n",
        "print('Recall {}'.format(recall_score(testL, predicted, average='weighted')))\n",
        "\n",
        "print(classification_report(testL, predicted))"
      ],
      "metadata": {
        "colab": {
          "base_uri": "https://localhost:8080/"
        },
        "id": "GTDzqsasSYqV",
        "outputId": "5238eb22-c89e-4789-8905-3925eede091d"
      },
      "execution_count": 18,
      "outputs": [
        {
          "output_type": "stream",
          "name": "stdout",
          "text": [
            "Accuracy 0.9944444444444445\n",
            "Precision 0.9945998445998444\n",
            "Recall 0.9944444444444445\n",
            "              precision    recall  f1-score   support\n",
            "\n",
            "           0       1.00      1.00      1.00        34\n",
            "           1       1.00      1.00      1.00        47\n",
            "           2       1.00      1.00      1.00        37\n",
            "           3       1.00      0.97      0.98        31\n",
            "           4       1.00      1.00      1.00        43\n",
            "           5       1.00      0.97      0.98        30\n",
            "           6       1.00      1.00      1.00        39\n",
            "           7       1.00      1.00      1.00        29\n",
            "           8       0.97      1.00      0.98        32\n",
            "           9       0.97      1.00      0.99        38\n",
            "\n",
            "    accuracy                           0.99       360\n",
            "   macro avg       0.99      0.99      0.99       360\n",
            "weighted avg       0.99      0.99      0.99       360\n",
            "\n"
          ]
        }
      ]
    }
  ]
}